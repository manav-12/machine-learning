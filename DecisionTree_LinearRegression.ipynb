{
  "nbformat": 4,
  "nbformat_minor": 0,
  "metadata": {
    "colab": {
      "name": "A2_B00792841.ipynb",
      "provenance": [],
      "collapsed_sections": []
    },
    "kernelspec": {
      "display_name": "Python 3",
      "language": "python",
      "name": "python3"
    }
  },
  "cells": [
    {
      "cell_type": "markdown",
      "metadata": {
        "id": "j3sNphf9Mg7P",
        "colab_type": "text"
      },
      "source": [
        "# <center>Assignment 2</center>"
      ]
    },
    {
      "cell_type": "markdown",
      "metadata": {
        "id": "Buk-bedKmjXn",
        "colab_type": "text"
      },
      "source": [
        "<b>Due Date</b>: Thursday, February 7, 11:59pm. To be submitted via brightspace. <br>\n",
        "<b>Please note</b>: Can be done in pairs. <b>Submit from only one of the team members' accounts, i.e. do not submit from two different accounts</b>; please indicate both names & student numbers clearly on the submission."
      ]
    },
    {
      "cell_type": "markdown",
      "metadata": {
        "id": "nkPxVjSqMg7R",
        "colab_type": "text"
      },
      "source": [
        "This assignment is on Decision Trees and Linear Regression. It is preferred that you code in Python3. All the imports made in this notebook are as below; if these imports work, you are (mostly) set to complete the assignment."
      ]
    },
    {
      "cell_type": "code",
      "metadata": {
        "id": "mFkmj-5OMg7S",
        "colab_type": "code",
        "colab": {}
      },
      "source": [
        "%matplotlib inline\n",
        "import matplotlib.pyplot as plt\n",
        "import numpy as np\n",
        "import pandas as pd\n",
        "from sklearn.tree import DecisionTreeClassifier\n",
        "from sklearn.linear_model import LinearRegression\n",
        "from sklearn.metrics import mean_squared_error\n",
        "from sklearn.model_selection import train_test_split\n",
        "from sklearn.feature_extraction.text import TfidfVectorizer\n",
        "from IPython.display import SVG\n",
        "from graphviz import Source\n",
        "from sklearn.tree import export_graphviz\n",
        "from IPython.display import display\n",
        "from math import log\n",
        "import re"
      ],
      "execution_count": 0,
      "outputs": []
    },
    {
      "cell_type": "markdown",
      "metadata": {
        "id": "sLoJorKdMg7V",
        "colab_type": "text"
      },
      "source": [
        "Download the following datasets from google drive [The links and names are embedded in the commands]. \n",
        "\n",
        "Those who use Linux/Mac/Colab can directly run the below cell by uncommenting the commands. "
      ]
    },
    {
      "cell_type": "code",
      "metadata": {
        "id": "CBWu_nKcMg7W",
        "colab_type": "code",
        "outputId": "c778ddef-fcb6-46a8-b1ee-e146e14dabf5",
        "colab": {
          "base_uri": "https://localhost:8080/",
          "height": 221
        }
      },
      "source": [
        "!curl -L -o real_news.txt \"https://drive.google.com/uc?export=download&id=1pVbIc8ZGqsNVQE7UXa6Pu5VxkW57Uono\"\n",
        "!curl -L -o fake_news.txt \"https://drive.google.com/uc?export=download&id=1ejl2esjM8heh90hjdtUh39h3ysLeNa3A\"\n",
        "!curl -L -o houses.csv \"https://drive.google.com/uc?export=download&id=1mwmM-EF58LRQjm0Hj5oirRAIXuTvlDzP\""
      ],
      "execution_count": 0,
      "outputs": [
        {
          "output_type": "stream",
          "text": [
            "  % Total    % Received % Xferd  Average Speed   Time    Time     Time  Current\n",
            "                                 Dload  Upload   Total   Spent    Left  Speed\n",
            "\r  0     0    0     0    0     0      0      0 --:--:-- --:--:-- --:--:--     0\r100   388    0   388    0     0   1216      0 --:--:-- --:--:-- --:--:--  1216\r100   388    0   388    0     0   1216      0 --:--:-- --:--:-- --:--:--  1212\n",
            "100  100k  100  100k    0     0   224k      0 --:--:-- --:--:-- --:--:--  224k\n",
            "  % Total    % Received % Xferd  Average Speed   Time    Time     Time  Current\n",
            "                                 Dload  Upload   Total   Spent    Left  Speed\n",
            "100   388    0   388    0     0   1969      0 --:--:-- --:--:-- --:--:--  1959\n",
            "100 94400  100 94400    0     0   320k      0 --:--:-- --:--:-- --:--:--  320k\n",
            "  % Total    % Received % Xferd  Average Speed   Time    Time     Time  Current\n",
            "                                 Dload  Upload   Total   Spent    Left  Speed\n",
            "100   388    0   388    0     0   1068      0 --:--:-- --:--:-- --:--:--  1068\n",
            "100 1158k  100 1158k    0     0  2363k      0 --:--:-- --:--:-- --:--:-- 2363k\n"
          ],
          "name": "stdout"
        }
      ]
    },
    {
      "cell_type": "markdown",
      "metadata": {
        "id": "fUov99m9O5JV",
        "colab_type": "text"
      },
      "source": [
        "<table>\n",
        "  <tr>\n",
        "    <td>**Section**</td>\n",
        "    <td>**Score**</td>\n",
        "  </tr>\n",
        "  <tr>\n",
        "    <td> Decision Trees </td>\n",
        "    <td> 20 </td>\n",
        "  </tr>\n",
        "  <tr>\n",
        "    <td> Linear Regression </td>\n",
        "    <td> 40 </td>\n",
        "  </tr>\n",
        "    <tr>\n",
        "    <td> Bonus (this is optional) </td>\n",
        "    <td> 5 </td>\n",
        "  </tr>\n",
        "  <tr>\n",
        "    <td> **Total**  </td>\n",
        "    <td> **60 (+5 if you attempt the bonus question)** </td>\n",
        "  </tr>\n",
        "  </table>"
      ]
    },
    {
      "cell_type": "markdown",
      "metadata": {
        "id": "lKEnJXAgMg7b",
        "colab_type": "text"
      },
      "source": [
        "## 1. Decision Trees [20 pts]\n",
        "\n",
        "We will train a Decision Tree (sklearn) for building a real vs fake news headlines classifier. The details of the dataset are as follows:\n",
        "* The fake news headlines are taken from https://www.kaggle.com/mrisdal/fake-news/data.\n",
        "* The real news headlines are taken from https://www.kaggle.com/therohk/million-headlines.\n",
        "* For the purposes of the assignment, only headlines containing the word \"trump\" are used.\n",
        "* The resulting datasets, real_news.txt and fake_news.txt, contain 1968 real and 1298 fake news headlines. "
      ]
    },
    {
      "cell_type": "markdown",
      "metadata": {
        "id": "mdAsMIjIMg7c",
        "colab_type": "text"
      },
      "source": [
        "Instructions for ```load_dataset``` [2 pts]:\n",
        "1. Load the real_news and fake_news datasets. \n",
        "2. Vectorize the given texts using SkLearn's <a href=\"https://scikit-learn.org/stable/modules/generated/sklearn.feature_extraction.text.TfidfVectorizer.html\">TF-IDF Vectorizer</a>. Refer to the example given. <br>\n",
        "[Come up with a way to store the words and their indices - you will need it for visualize]\n",
        "3. Now, split the dataset randomly into train [70%], validation[15%] and test [15%].\n",
        "4. Return these values.\n",
        "\n",
        "Instructions for ```select_model``` [3 pts]:\n",
        "1. Train <a href=\"https://scikit-learn.org/stable/modules/generated/sklearn.tree.DecisionTreeClassifier.html\">Decision Trees</a> by varying the ```max_depth``` parameter [Use 'entropy' as the criterion.]. <br> <b>Q:</b> Why might we vary the max_depth parameter? [1 pt] <br/>\n",
        "<b>A: </b> Max depth indicates how deep the tree should be. If we increase the max_depth it captures more information and tend to perform well on training dataset but might fail on valid and test data(overfitting). So we need to select the best max_depth value for which the model genealizes well. \n",
        "\n",
        "2. Try out at least 5 different values. <br> <b>Q:</b> How did you choose potential values? [1 pt]\n",
        "<br/><b>A:</b> To select the best model check if the model performs well on validation data. In addition also check the difference between the train accuracy and validation accuracy is minimum. So as to avoid selecting the overfitted model.\n",
        " \n",
        "3. For each of the classifiers, print out the accuracies on the validation dataset.\n",
        "4. Return the best performing model.\n",
        "\n",
        "Instructions for ```visualize``` [5 pts]:\n",
        "- Visualize the first two levels of the best decision tree, using any means you wish: either hand-drawing a figure, or displaying text, or otherwise, as long as key details are clear, e.g. the word & decision boundary at each node, etc.\n",
        "- Write the code you used to extract this info inside the function. \n",
        "\n",
        "Instructions for ```information_gain```[5 pts]:\n",
        "- Compute the $I(Y;x_i)$ where $Y$ is the random variable signifying whether the headline is real or fake, and $x_i$ is the word in the headline used to determine the split in the data.  "
      ]
    },
    {
      "cell_type": "code",
      "metadata": {
        "id": "J-FVleI0Mg7c",
        "colab_type": "code",
        "colab": {}
      },
      "source": [
        "word_indices = None\n",
        "def load_dataset():\n",
        "    train, validation, test = None,None,None\n",
        "    # Code here.\n",
        "    #read fake_news and real_news text files\n",
        "    fn_file = open(\"fake_news.txt\")\n",
        "    fake_list = fn_file.read().split('\\n')\n",
        "    rn_file = open(\"real_news.txt\")\n",
        "    real_list = rn_file.read().split('\\n')\n",
        "    fn_file.close()\n",
        "    rn_file.close()\n",
        "    fake_list.remove('')\n",
        "    real_list.remove('')\n",
        "    #create pandas dataframe and label the list of fake and real and concat them\n",
        "    fake_df = pd.DataFrame({'news': fake_list,'type':'fake'})\n",
        "    real_df = pd.DataFrame({'news': real_list, 'type': 'real'})\n",
        "    news_df = pd.concat([real_df,fake_df])\n",
        "    #vectorize the text and create a new column containing vector for each headline\n",
        "    vectorizer = TfidfVectorizer()\n",
        "    vectors = vectorizer.fit_transform(news_df['news'])\n",
        "    global word_indices \n",
        "    word_indices = vectorizer.get_feature_names()\n",
        "    news_df['news_vec'] = list(vectors.toarray())\n",
        "    #split the data into train,valid and test in 70,15 and 15 respectively\n",
        "    train, test_valid = train_test_split(news_df, test_size= 0.30, shuffle= True, random_state= 42,stratify=news_df['type'])\n",
        "    validation, test = train_test_split(test_valid, test_size= 0.50,shuffle= True, random_state= 42,stratify=test_valid['type'])\n",
        "    return train, validation, test"
      ],
      "execution_count": 0,
      "outputs": []
    },
    {
      "cell_type": "code",
      "metadata": {
        "id": "Qe_y3R9zMg7f",
        "colab_type": "code",
        "colab": {}
      },
      "source": [
        "def select_model(train,validation):\n",
        "    best_classifier = None\n",
        "    # Code here\n",
        "    best_score =0.0\n",
        "    best_depth=0\n",
        "    depth_list = [22,42,62,82,100]\n",
        "    for depth in depth_list:\n",
        "      tree_classifier = DecisionTreeClassifier(criterion ='entropy',max_depth=depth)\n",
        "      #train model\n",
        "      tree_classifier = tree_classifier.fit(train['news_vec'].tolist(),train['type'])\n",
        "      #calculate train and valid score\n",
        "      train_score = tree_classifier.score(train['news_vec'].tolist(),train['type'])\n",
        "      valid_score = tree_classifier.score(validation['news_vec'].tolist(),validation['type'])\n",
        "      print(\"Train Score for Depth \"+str(depth)+\": \"+str(train_score))\n",
        "      print(\"Valid Score for Depth \"+str(depth)+\": \"+str(valid_score))\n",
        "      #select the best model\n",
        "      if valid_score > best_score and train_score-valid_score<0.15:\n",
        "        best_score = valid_score\n",
        "        best_classifier = tree_classifier\n",
        "        best_depth=depth\n",
        "    print(\"Tree with depth:\"+str(best_depth))\n",
        "    return best_classifier"
      ],
      "execution_count": 0,
      "outputs": []
    },
    {
      "cell_type": "code",
      "metadata": {
        "id": "t-Z3ilx_Mg7h",
        "colab_type": "code",
        "colab": {}
      },
      "source": [
        "#Reference:https://stackoverflow.com/questions/27817994/visualizing-decision-tree-in-scikit-learn\n",
        "def visualize(decisionTree):\n",
        "    graph = Source( export_graphviz(decisionTree, out_file=None,max_depth =2, filled=True, \n",
        "                                rounded=True,special_characters=True,feature_names=word_indices))\n",
        "    display(SVG(graph.pipe(format='svg')))"
      ],
      "execution_count": 0,
      "outputs": []
    },
    {
      "cell_type": "code",
      "metadata": {
        "id": "agDhyiHoMg7k",
        "colab_type": "code",
        "colab": {}
      },
      "source": [
        "def information_gain(data, word):\n",
        "    # calculate probablities of fake and real targets\n",
        "    prob_fake = (data['type'] == 'fake').sum() / data['type'].count()\n",
        "    prob_real = (data['type'] == 'real').sum() / data['type'].count()\n",
        "    # calculate the entropy of the fake and real targests\n",
        "    entropy_Y = - prob_fake * log(prob_fake, 2) - prob_real * log(prob_real, 2)\n",
        "    # create a list of Boolean for word present or not\n",
        "    listofword = np.array(data['news'].apply(lambda row: True if re.search(r'\\b' + word + r'\\b', row) else False)).reshape(-1, 1)\n",
        "    # fetch type [fake or real]\n",
        "    listoflabels = np.array(data['type']).reshape(-1, 1)\n",
        "    #join the above to created numpy arrays\n",
        "    jointlist = np.append(listofword, listoflabels.reshape(-1, 1), axis=1)\n",
        "    # calculate the probablities of real or fake given the text contains that word or not\n",
        "    prob_fake_givenword = (np.logical_and(jointlist[:, 0] ==True, jointlist[:, 1] == 'fake') == True).sum() / (jointlist[:, 0] ==True).sum()\n",
        "    prob_real_givenword = (np.logical_and(jointlist[:, 0] ==True, jointlist[:, 1] == 'real') == True).sum() / (jointlist[:, 0] ==True).sum()\n",
        "    prob_fake_notword = (np.logical_and(jointlist[:, 0] == False, jointlist[:, 1] == 'fake') == True).sum() / (jointlist[:, 0] == False).sum()\n",
        "    prob_real_notword = (np.logical_and(jointlist[:, 0] == False, jointlist[:, 1] == 'real') == True).sum() / (jointlist[:, 0] == False).sum()\n",
        "    # entropy of word in text\n",
        "    entropy_givenword = - prob_real_givenword * (log(prob_real_givenword, 2) if prob_real_givenword != 0 else 0) - prob_fake_givenword * (log(prob_fake_givenword, 2) if prob_fake_givenword != 0 else 0)\n",
        "    # entropy of word not in text\n",
        "    entropy_notword = - prob_real_notword * (log(prob_real_notword, 2) if prob_real_notword != 0 else 0) - prob_fake_notword * (log(prob_fake_notword, 2) if prob_fake_notword != 0 else 0) \n",
        "    # multiply entropy by number of of samples in their split by total number of samples\n",
        "    info = ((jointlist[:,0]==True).sum()/(jointlist[:,0]).shape[0])*entropy_givenword + ((jointlist[:,0]==False).sum()/(jointlist[:,0]).shape[0])*entropy_notword\n",
        "    info_gain = entropy_Y - info\n",
        "    return info_gain"
      ],
      "execution_count": 0,
      "outputs": []
    },
    {
      "cell_type": "code",
      "metadata": {
        "id": "vRTOtypXMg7m",
        "colab_type": "code",
        "outputId": "e566789b-cd3d-4a07-82f4-caa32503f0a1",
        "colab": {
          "base_uri": "https://localhost:8080/",
          "height": 401
        }
      },
      "source": [
        "train, validation, test = load_dataset()\n",
        "#select the best model\n",
        "best_classifier = select_model(train, validation)\n",
        "#evaluate accuracy on the test dataset.\n",
        "test_score = best_classifier.score(test['news_vec'].tolist(),test['type'])\n",
        "print(\"Test Score:\"+str(test_score))"
      ],
      "execution_count": 0,
      "outputs": [
        {
          "output_type": "stream",
          "text": [
            "Train Score for Depth 22: 0.9531933508311461\n",
            "Valid Score for Depth 22: 0.7979591836734694\n",
            "Train Score for Depth 42: 0.989501312335958\n",
            "Valid Score for Depth 42: 0.7795918367346939\n",
            "Train Score for Depth 62: 1.0\n",
            "Valid Score for Depth 62: 0.7755102040816326\n",
            "Train Score for Depth 82: 1.0\n",
            "Valid Score for Depth 82: 0.7775510204081633\n",
            "Train Score for Depth 100: 1.0\n",
            "Valid Score for Depth 100: 0.7775510204081633\n",
            "Tree with depth:0\n"
          ],
          "name": "stdout"
        },
        {
          "output_type": "error",
          "ename": "AttributeError",
          "evalue": "ignored",
          "traceback": [
            "\u001b[0;31m---------------------------------------------------------------------------\u001b[0m",
            "\u001b[0;31mAttributeError\u001b[0m                            Traceback (most recent call last)",
            "\u001b[0;32m<ipython-input-22-7360cdad0cb4>\u001b[0m in \u001b[0;36m<module>\u001b[0;34m()\u001b[0m\n\u001b[1;32m      3\u001b[0m \u001b[0mbest_classifier\u001b[0m \u001b[0;34m=\u001b[0m \u001b[0mselect_model\u001b[0m\u001b[0;34m(\u001b[0m\u001b[0mtrain\u001b[0m\u001b[0;34m,\u001b[0m \u001b[0mvalidation\u001b[0m\u001b[0;34m)\u001b[0m\u001b[0;34m\u001b[0m\u001b[0;34m\u001b[0m\u001b[0m\n\u001b[1;32m      4\u001b[0m \u001b[0;31m#evaluate accuracy on the test dataset.\u001b[0m\u001b[0;34m\u001b[0m\u001b[0;34m\u001b[0m\u001b[0;34m\u001b[0m\u001b[0m\n\u001b[0;32m----> 5\u001b[0;31m \u001b[0mtest_score\u001b[0m \u001b[0;34m=\u001b[0m \u001b[0mbest_classifier\u001b[0m\u001b[0;34m.\u001b[0m\u001b[0mscore\u001b[0m\u001b[0;34m(\u001b[0m\u001b[0mtest\u001b[0m\u001b[0;34m[\u001b[0m\u001b[0;34m'news_vec'\u001b[0m\u001b[0;34m]\u001b[0m\u001b[0;34m.\u001b[0m\u001b[0mtolist\u001b[0m\u001b[0;34m(\u001b[0m\u001b[0;34m)\u001b[0m\u001b[0;34m,\u001b[0m\u001b[0mtest\u001b[0m\u001b[0;34m[\u001b[0m\u001b[0;34m'type'\u001b[0m\u001b[0;34m]\u001b[0m\u001b[0;34m)\u001b[0m\u001b[0;34m\u001b[0m\u001b[0;34m\u001b[0m\u001b[0m\n\u001b[0m\u001b[1;32m      6\u001b[0m \u001b[0mprint\u001b[0m\u001b[0;34m(\u001b[0m\u001b[0;34m\"Test Score:\"\u001b[0m\u001b[0;34m+\u001b[0m\u001b[0mstr\u001b[0m\u001b[0;34m(\u001b[0m\u001b[0mtest_score\u001b[0m\u001b[0;34m)\u001b[0m\u001b[0;34m)\u001b[0m\u001b[0;34m\u001b[0m\u001b[0;34m\u001b[0m\u001b[0m\n",
            "\u001b[0;31mAttributeError\u001b[0m: 'NoneType' object has no attribute 'score'"
          ]
        }
      ]
    },
    {
      "cell_type": "code",
      "metadata": {
        "id": "6osLD_9HMg7o",
        "colab_type": "code",
        "outputId": "d464199b-6e05-4d05-c84b-d40748a73459",
        "colab": {
          "base_uri": "https://localhost:8080/",
          "height": 496
        }
      },
      "source": [
        "visualize(best_classifier)"
      ],
      "execution_count": 0,
      "outputs": [
        {
          "output_type": "display_data",
          "data": {
            "text/plain": [
              "<IPython.core.display.SVG object>"
            ],
            "image/svg+xml": "<svg height=\"356pt\" viewBox=\"0.00 0.00 606.00 356.00\" width=\"606pt\" xmlns=\"http://www.w3.org/2000/svg\" xmlns:xlink=\"http://www.w3.org/1999/xlink\">\n<g class=\"graph\" id=\"graph0\" transform=\"scale(1 1) rotate(0) translate(4 352)\">\n<title>Tree</title>\n<polygon fill=\"#ffffff\" points=\"-4,4 -4,-352 602,-352 602,4 -4,4\" stroke=\"transparent\"/>\n<!-- 0 -->\n<g class=\"node\" id=\"node1\">\n<title>0</title>\n<path d=\"M342,-348C342,-348 226,-348 226,-348 220,-348 214,-342 214,-336 214,-336 214,-292 214,-292 214,-286 220,-280 226,-280 226,-280 342,-280 342,-280 348,-280 354,-286 354,-292 354,-292 354,-336 354,-336 354,-342 348,-348 342,-348\" fill=\"#399de5\" fill-opacity=\"0.341176\" stroke=\"#000000\"/>\n<text fill=\"#000000\" font-family=\"Helvetica,sans-Serif\" font-size=\"14.00\" text-anchor=\"start\" x=\"239.5\" y=\"-332.8\">trump ≤ 0.056</text>\n<text fill=\"#000000\" font-family=\"Helvetica,sans-Serif\" font-size=\"14.00\" text-anchor=\"start\" x=\"237\" y=\"-317.8\">entropy = 0.97</text>\n<text fill=\"#000000\" font-family=\"Helvetica,sans-Serif\" font-size=\"14.00\" text-anchor=\"start\" x=\"232\" y=\"-302.8\">samples = 2286</text>\n<text fill=\"#000000\" font-family=\"Helvetica,sans-Serif\" font-size=\"14.00\" text-anchor=\"start\" x=\"222\" y=\"-287.8\">value = [909, 1377]</text>\n</g>\n<!-- 1 -->\n<g class=\"node\" id=\"node2\">\n<title>1</title>\n<path d=\"M261,-244C261,-244 153,-244 153,-244 147,-244 141,-238 141,-232 141,-232 141,-188 141,-188 141,-182 147,-176 153,-176 153,-176 261,-176 261,-176 267,-176 273,-182 273,-188 273,-188 273,-232 273,-232 273,-238 267,-244 261,-244\" fill=\"#e58139\" fill-opacity=\"0.474510\" stroke=\"#000000\"/>\n<text fill=\"#000000\" font-family=\"Helvetica,sans-Serif\" font-size=\"14.00\" text-anchor=\"start\" x=\"158.5\" y=\"-228.8\">trumps ≤ 0.164</text>\n<text fill=\"#000000\" font-family=\"Helvetica,sans-Serif\" font-size=\"14.00\" text-anchor=\"start\" x=\"156\" y=\"-213.8\">entropy = 0.928</text>\n<text fill=\"#000000\" font-family=\"Helvetica,sans-Serif\" font-size=\"14.00\" text-anchor=\"start\" x=\"159\" y=\"-198.8\">samples = 835</text>\n<text fill=\"#000000\" font-family=\"Helvetica,sans-Serif\" font-size=\"14.00\" text-anchor=\"start\" x=\"149\" y=\"-183.8\">value = [548, 287]</text>\n</g>\n<!-- 0&#45;&gt;1 -->\n<g class=\"edge\" id=\"edge1\">\n<title>0-&gt;1</title>\n<path d=\"M258.7873,-279.9465C252.2727,-271.1475 245.1795,-261.5672 238.3918,-252.3993\" fill=\"none\" stroke=\"#000000\"/>\n<polygon fill=\"#000000\" points=\"241.0327,-250.0843 232.2693,-244.13 235.4069,-254.2496 241.0327,-250.0843\" stroke=\"#000000\"/>\n<text fill=\"#000000\" font-family=\"Helvetica,sans-Serif\" font-size=\"14.00\" text-anchor=\"middle\" x=\"228.5809\" y=\"-265.1564\">True</text>\n</g>\n<!-- 144 -->\n<g class=\"node\" id=\"node9\">\n<title>144</title>\n<path d=\"M419,-244C419,-244 303,-244 303,-244 297,-244 291,-238 291,-232 291,-232 291,-188 291,-188 291,-182 297,-176 303,-176 303,-176 419,-176 419,-176 425,-176 431,-182 431,-188 431,-188 431,-232 431,-232 431,-238 425,-244 419,-244\" fill=\"#399de5\" fill-opacity=\"0.670588\" stroke=\"#000000\"/>\n<text fill=\"#000000\" font-family=\"Helvetica,sans-Serif\" font-size=\"14.00\" text-anchor=\"start\" x=\"312.5\" y=\"-228.8\">donald ≤ 0.112</text>\n<text fill=\"#000000\" font-family=\"Helvetica,sans-Serif\" font-size=\"14.00\" text-anchor=\"start\" x=\"310\" y=\"-213.8\">entropy = 0.809</text>\n<text fill=\"#000000\" font-family=\"Helvetica,sans-Serif\" font-size=\"14.00\" text-anchor=\"start\" x=\"309\" y=\"-198.8\">samples = 1451</text>\n<text fill=\"#000000\" font-family=\"Helvetica,sans-Serif\" font-size=\"14.00\" text-anchor=\"start\" x=\"299\" y=\"-183.8\">value = [361, 1090]</text>\n</g>\n<!-- 0&#45;&gt;144 -->\n<g class=\"edge\" id=\"edge8\">\n<title>0-&gt;144</title>\n<path d=\"M309.2127,-279.9465C315.7273,-271.1475 322.8205,-261.5672 329.6082,-252.3993\" fill=\"none\" stroke=\"#000000\"/>\n<polygon fill=\"#000000\" points=\"332.5931,-254.2496 335.7307,-244.13 326.9673,-250.0843 332.5931,-254.2496\" stroke=\"#000000\"/>\n<text fill=\"#000000\" font-family=\"Helvetica,sans-Serif\" font-size=\"14.00\" text-anchor=\"middle\" x=\"339.4191\" y=\"-265.1564\">False</text>\n</g>\n<!-- 2 -->\n<g class=\"node\" id=\"node3\">\n<title>2</title>\n<path d=\"M120,-140C120,-140 12,-140 12,-140 6,-140 0,-134 0,-128 0,-128 0,-84 0,-84 0,-78 6,-72 12,-72 12,-72 120,-72 120,-72 126,-72 132,-78 132,-84 132,-84 132,-128 132,-128 132,-134 126,-140 120,-140\" fill=\"#e58139\" fill-opacity=\"0.776471\" stroke=\"#000000\"/>\n<text fill=\"#000000\" font-family=\"Helvetica,sans-Serif\" font-size=\"14.00\" text-anchor=\"start\" x=\"21.5\" y=\"-124.8\">trump ≤ 0.051</text>\n<text fill=\"#000000\" font-family=\"Helvetica,sans-Serif\" font-size=\"14.00\" text-anchor=\"start\" x=\"15\" y=\"-109.8\">entropy = 0.688</text>\n<text fill=\"#000000\" font-family=\"Helvetica,sans-Serif\" font-size=\"14.00\" text-anchor=\"start\" x=\"18\" y=\"-94.8\">samples = 670</text>\n<text fill=\"#000000\" font-family=\"Helvetica,sans-Serif\" font-size=\"14.00\" text-anchor=\"start\" x=\"8\" y=\"-79.8\">value = [547, 123]</text>\n</g>\n<!-- 1&#45;&gt;2 -->\n<g class=\"edge\" id=\"edge2\">\n<title>1-&gt;2</title>\n<path d=\"M160.8313,-175.9465C147.9281,-166.4293 133.7855,-155.9978 120.4517,-146.163\" fill=\"none\" stroke=\"#000000\"/>\n<polygon fill=\"#000000\" points=\"122.3977,-143.2492 112.2724,-140.13 118.2425,-148.8826 122.3977,-143.2492\" stroke=\"#000000\"/>\n</g>\n<!-- 141 -->\n<g class=\"node\" id=\"node6\">\n<title>141</title>\n<path d=\"M256,-140C256,-140 162,-140 162,-140 156,-140 150,-134 150,-128 150,-128 150,-84 150,-84 150,-78 156,-72 162,-72 162,-72 256,-72 256,-72 262,-72 268,-78 268,-84 268,-84 268,-128 268,-128 268,-134 262,-140 256,-140\" fill=\"#399de5\" fill-opacity=\"0.992157\" stroke=\"#000000\"/>\n<text fill=\"#000000\" font-family=\"Helvetica,sans-Serif\" font-size=\"14.00\" text-anchor=\"start\" x=\"166.5\" y=\"-124.8\">fame ≤ 0.175</text>\n<text fill=\"#000000\" font-family=\"Helvetica,sans-Serif\" font-size=\"14.00\" text-anchor=\"start\" x=\"158\" y=\"-109.8\">entropy = 0.053</text>\n<text fill=\"#000000\" font-family=\"Helvetica,sans-Serif\" font-size=\"14.00\" text-anchor=\"start\" x=\"161\" y=\"-94.8\">samples = 165</text>\n<text fill=\"#000000\" font-family=\"Helvetica,sans-Serif\" font-size=\"14.00\" text-anchor=\"start\" x=\"159\" y=\"-79.8\">value = [1, 164]</text>\n</g>\n<!-- 1&#45;&gt;141 -->\n<g class=\"edge\" id=\"edge5\">\n<title>1-&gt;141</title>\n<path d=\"M207.6549,-175.9465C207.812,-167.776 207.9821,-158.9318 208.1467,-150.3697\" fill=\"none\" stroke=\"#000000\"/>\n<polygon fill=\"#000000\" points=\"211.6506,-150.1955 208.3437,-140.13 204.6519,-150.0608 211.6506,-150.1955\" stroke=\"#000000\"/>\n</g>\n<!-- 3 -->\n<g class=\"node\" id=\"node4\">\n<title>3</title>\n<path d=\"M44,-36C44,-36 14,-36 14,-36 8,-36 2,-30 2,-24 2,-24 2,-12 2,-12 2,-6 8,0 14,0 14,0 44,0 44,0 50,0 56,-6 56,-12 56,-12 56,-24 56,-24 56,-30 50,-36 44,-36\" fill=\"#c0c0c0\" stroke=\"#000000\"/>\n<text fill=\"#000000\" font-family=\"Helvetica,sans-Serif\" font-size=\"14.00\" text-anchor=\"middle\" x=\"29\" y=\"-14.3\">(...)</text>\n</g>\n<!-- 2&#45;&gt;3 -->\n<g class=\"edge\" id=\"edge3\">\n<title>2-&gt;3</title>\n<path d=\"M51.6948,-71.9769C48.0116,-63.2167 44.0941,-53.8995 40.5691,-45.5157\" fill=\"none\" stroke=\"#000000\"/>\n<polygon fill=\"#000000\" points=\"43.7513,-44.0537 36.6489,-36.192 37.2984,-46.7669 43.7513,-44.0537\" stroke=\"#000000\"/>\n</g>\n<!-- 46 -->\n<g class=\"node\" id=\"node5\">\n<title>46</title>\n<path d=\"M116,-36C116,-36 86,-36 86,-36 80,-36 74,-30 74,-24 74,-24 74,-12 74,-12 74,-6 80,0 86,0 86,0 116,0 116,0 122,0 128,-6 128,-12 128,-12 128,-24 128,-24 128,-30 122,-36 116,-36\" fill=\"#c0c0c0\" stroke=\"#000000\"/>\n<text fill=\"#000000\" font-family=\"Helvetica,sans-Serif\" font-size=\"14.00\" text-anchor=\"middle\" x=\"101\" y=\"-14.3\">(...)</text>\n</g>\n<!-- 2&#45;&gt;46 -->\n<g class=\"edge\" id=\"edge4\">\n<title>2-&gt;46</title>\n<path d=\"M79.5319,-71.9769C83.0161,-63.2167 86.7218,-53.8995 90.0562,-45.5157\" fill=\"none\" stroke=\"#000000\"/>\n<polygon fill=\"#000000\" points=\"93.321,-46.7775 93.7646,-36.192 86.8166,-44.1905 93.321,-46.7775\" stroke=\"#000000\"/>\n</g>\n<!-- 142 -->\n<g class=\"node\" id=\"node7\">\n<title>142</title>\n<path d=\"M223,-36C223,-36 193,-36 193,-36 187,-36 181,-30 181,-24 181,-24 181,-12 181,-12 181,-6 187,0 193,0 193,0 223,0 223,0 229,0 235,-6 235,-12 235,-12 235,-24 235,-24 235,-30 229,-36 223,-36\" fill=\"#c0c0c0\" stroke=\"#000000\"/>\n<text fill=\"#000000\" font-family=\"Helvetica,sans-Serif\" font-size=\"14.00\" text-anchor=\"middle\" x=\"208\" y=\"-14.3\">(...)</text>\n</g>\n<!-- 141&#45;&gt;142 -->\n<g class=\"edge\" id=\"edge6\">\n<title>141-&gt;142</title>\n<path d=\"M208.6134,-71.9769C208.5171,-63.5023 208.4148,-54.5065 208.322,-46.3388\" fill=\"none\" stroke=\"#000000\"/>\n<polygon fill=\"#000000\" points=\"211.8202,-46.1515 208.2067,-36.192 204.8207,-46.2311 211.8202,-46.1515\" stroke=\"#000000\"/>\n</g>\n<!-- 143 -->\n<g class=\"node\" id=\"node8\">\n<title>143</title>\n<path d=\"M295,-36C295,-36 265,-36 265,-36 259,-36 253,-30 253,-24 253,-24 253,-12 253,-12 253,-6 259,0 265,0 265,0 295,0 295,0 301,0 307,-6 307,-12 307,-12 307,-24 307,-24 307,-30 301,-36 295,-36\" fill=\"#c0c0c0\" stroke=\"#000000\"/>\n<text fill=\"#000000\" font-family=\"Helvetica,sans-Serif\" font-size=\"14.00\" text-anchor=\"middle\" x=\"280\" y=\"-14.3\">(...)</text>\n</g>\n<!-- 141&#45;&gt;143 -->\n<g class=\"edge\" id=\"edge7\">\n<title>141-&gt;143</title>\n<path d=\"M236.4505,-71.9769C243.9025,-62.7406 251.8541,-52.8851 258.8958,-44.1573\" fill=\"none\" stroke=\"#000000\"/>\n<polygon fill=\"#000000\" points=\"261.7671,-46.1725 265.3224,-36.192 256.3191,-41.777 261.7671,-46.1725\" stroke=\"#000000\"/>\n</g>\n<!-- 145 -->\n<g class=\"node\" id=\"node10\">\n<title>145</title>\n<path d=\"M410,-140C410,-140 302,-140 302,-140 296,-140 290,-134 290,-128 290,-128 290,-84 290,-84 290,-78 296,-72 302,-72 302,-72 410,-72 410,-72 416,-72 422,-78 422,-84 422,-84 422,-128 422,-128 422,-134 416,-140 410,-140\" fill=\"#399de5\" fill-opacity=\"0.509804\" stroke=\"#000000\"/>\n<text fill=\"#000000\" font-family=\"Helvetica,sans-Serif\" font-size=\"14.00\" text-anchor=\"start\" x=\"311\" y=\"-124.8\">hillary ≤ 0.069</text>\n<text fill=\"#000000\" font-family=\"Helvetica,sans-Serif\" font-size=\"14.00\" text-anchor=\"start\" x=\"305\" y=\"-109.8\">entropy = 0.913</text>\n<text fill=\"#000000\" font-family=\"Helvetica,sans-Serif\" font-size=\"14.00\" text-anchor=\"start\" x=\"308\" y=\"-94.8\">samples = 910</text>\n<text fill=\"#000000\" font-family=\"Helvetica,sans-Serif\" font-size=\"14.00\" text-anchor=\"start\" x=\"298\" y=\"-79.8\">value = [299, 611]</text>\n</g>\n<!-- 144&#45;&gt;145 -->\n<g class=\"edge\" id=\"edge9\">\n<title>144-&gt;145</title>\n<path d=\"M359.3628,-175.9465C358.97,-167.776 358.5448,-158.9318 358.1332,-150.3697\" fill=\"none\" stroke=\"#000000\"/>\n<polygon fill=\"#000000\" points=\"361.6171,-149.9504 357.6409,-140.13 354.6252,-150.2866 361.6171,-149.9504\" stroke=\"#000000\"/>\n</g>\n<!-- 320 -->\n<g class=\"node\" id=\"node13\">\n<title>320</title>\n<path d=\"M552,-140C552,-140 452,-140 452,-140 446,-140 440,-134 440,-128 440,-128 440,-84 440,-84 440,-78 446,-72 452,-72 452,-72 552,-72 552,-72 558,-72 564,-78 564,-84 564,-84 564,-128 564,-128 564,-134 558,-140 552,-140\" fill=\"#399de5\" fill-opacity=\"0.870588\" stroke=\"#000000\"/>\n<text fill=\"#000000\" font-family=\"Helvetica,sans-Serif\" font-size=\"14.00\" text-anchor=\"start\" x=\"457\" y=\"-124.8\">hillary ≤ 0.105</text>\n<text fill=\"#000000\" font-family=\"Helvetica,sans-Serif\" font-size=\"14.00\" text-anchor=\"start\" x=\"451\" y=\"-109.8\">entropy = 0.514</text>\n<text fill=\"#000000\" font-family=\"Helvetica,sans-Serif\" font-size=\"14.00\" text-anchor=\"start\" x=\"454\" y=\"-94.8\">samples = 541</text>\n<text fill=\"#000000\" font-family=\"Helvetica,sans-Serif\" font-size=\"14.00\" text-anchor=\"start\" x=\"448\" y=\"-79.8\">value = [62, 479]</text>\n</g>\n<!-- 144&#45;&gt;320 -->\n<g class=\"edge\" id=\"edge12\">\n<title>144-&gt;320</title>\n<path d=\"M407.1687,-175.9465C420.0719,-166.4293 434.2145,-155.9978 447.5483,-146.163\" fill=\"none\" stroke=\"#000000\"/>\n<polygon fill=\"#000000\" points=\"449.7575,-148.8826 455.7276,-140.13 445.6023,-143.2492 449.7575,-148.8826\" stroke=\"#000000\"/>\n</g>\n<!-- 146 -->\n<g class=\"node\" id=\"node11\">\n<title>146</title>\n<path d=\"M369,-36C369,-36 339,-36 339,-36 333,-36 327,-30 327,-24 327,-24 327,-12 327,-12 327,-6 333,0 339,0 339,0 369,0 369,0 375,0 381,-6 381,-12 381,-12 381,-24 381,-24 381,-30 375,-36 369,-36\" fill=\"#c0c0c0\" stroke=\"#000000\"/>\n<text fill=\"#000000\" font-family=\"Helvetica,sans-Serif\" font-size=\"14.00\" text-anchor=\"middle\" x=\"354\" y=\"-14.3\">(...)</text>\n</g>\n<!-- 145&#45;&gt;146 -->\n<g class=\"edge\" id=\"edge10\">\n<title>145-&gt;146</title>\n<path d=\"M355.2267,-71.9769C355.0341,-63.5023 354.8297,-54.5065 354.6441,-46.3388\" fill=\"none\" stroke=\"#000000\"/>\n<polygon fill=\"#000000\" points=\"358.1399,-46.1098 354.4135,-36.192 351.1417,-46.2689 358.1399,-46.1098\" stroke=\"#000000\"/>\n</g>\n<!-- 315 -->\n<g class=\"node\" id=\"node12\">\n<title>315</title>\n<path d=\"M441,-36C441,-36 411,-36 411,-36 405,-36 399,-30 399,-24 399,-24 399,-12 399,-12 399,-6 405,0 411,0 411,0 441,0 441,0 447,0 453,-6 453,-12 453,-12 453,-24 453,-24 453,-30 447,-36 441,-36\" fill=\"#c0c0c0\" stroke=\"#000000\"/>\n<text fill=\"#000000\" font-family=\"Helvetica,sans-Serif\" font-size=\"14.00\" text-anchor=\"middle\" x=\"426\" y=\"-14.3\">(...)</text>\n</g>\n<!-- 145&#45;&gt;315 -->\n<g class=\"edge\" id=\"edge11\">\n<title>145-&gt;315</title>\n<path d=\"M383.0638,-71.9769C390.4109,-62.7406 398.2505,-52.8851 405.1931,-44.1573\" fill=\"none\" stroke=\"#000000\"/>\n<polygon fill=\"#000000\" points=\"408.043,-46.1968 411.5291,-36.192 402.5647,-41.8391 408.043,-46.1968\" stroke=\"#000000\"/>\n</g>\n<!-- 321 -->\n<g class=\"node\" id=\"node14\">\n<title>321</title>\n<path d=\"M514,-36C514,-36 484,-36 484,-36 478,-36 472,-30 472,-24 472,-24 472,-12 472,-12 472,-6 478,0 484,0 484,0 514,0 514,0 520,0 526,-6 526,-12 526,-12 526,-24 526,-24 526,-30 520,-36 514,-36\" fill=\"#c0c0c0\" stroke=\"#000000\"/>\n<text fill=\"#000000\" font-family=\"Helvetica,sans-Serif\" font-size=\"14.00\" text-anchor=\"middle\" x=\"499\" y=\"-14.3\">(...)</text>\n</g>\n<!-- 320&#45;&gt;321 -->\n<g class=\"edge\" id=\"edge13\">\n<title>320-&gt;321</title>\n<path d=\"M500.8401,-71.9769C500.5512,-63.5023 500.2445,-54.5065 499.9661,-46.3388\" fill=\"none\" stroke=\"#000000\"/>\n<polygon fill=\"#000000\" points=\"503.459,-46.0669 499.6202,-36.192 496.463,-46.3054 503.459,-46.0669\" stroke=\"#000000\"/>\n</g>\n<!-- 386 -->\n<g class=\"node\" id=\"node15\">\n<title>386</title>\n<path d=\"M586,-36C586,-36 556,-36 556,-36 550,-36 544,-30 544,-24 544,-24 544,-12 544,-12 544,-6 550,0 556,0 556,0 586,0 586,0 592,0 598,-6 598,-12 598,-12 598,-24 598,-24 598,-30 592,-36 586,-36\" fill=\"#c0c0c0\" stroke=\"#000000\"/>\n<text fill=\"#000000\" font-family=\"Helvetica,sans-Serif\" font-size=\"14.00\" text-anchor=\"middle\" x=\"571\" y=\"-14.3\">(...)</text>\n</g>\n<!-- 320&#45;&gt;386 -->\n<g class=\"edge\" id=\"edge14\">\n<title>320-&gt;386</title>\n<path d=\"M528.6772,-71.9769C535.9193,-62.7406 543.6469,-52.8851 550.4903,-44.1573\" fill=\"none\" stroke=\"#000000\"/>\n<polygon fill=\"#000000\" points=\"553.3198,-46.221 556.7359,-36.192 547.8112,-41.9017 553.3198,-46.221\" stroke=\"#000000\"/>\n</g>\n</g>\n</svg>"
          },
          "metadata": {
            "tags": []
          }
        }
      ]
    },
    {
      "cell_type": "markdown",
      "metadata": {
        "id": "zVJODLXbMg7s",
        "colab_type": "text"
      },
      "source": [
        "Write down the cleaned version of the output of visualize function below:\n",
        "##"
      ]
    },
    {
      "cell_type": "code",
      "metadata": {
        "id": "SUxs_qINMg7s",
        "colab_type": "code",
        "outputId": "17e44b1c-71dc-4ace-d9b1-b6efcc8699f6",
        "colab": {
          "base_uri": "https://localhost:8080/",
          "height": 119
        }
      },
      "source": [
        "# information_gain of the root word \n",
        "print(\"Info Gain for word \\'trump\\'  : \"+str(information_gain(train,'trump')))\n",
        "# outputs for 5 different carefully chosen words.\n",
        "print(\"Info Gain for word \\'donald\\' : \"+str(information_gain(train,'donald')))\n",
        "print(\"Info Gain for word \\'trumps\\' : \"+str(information_gain(train,'trumps')))\n",
        "print(\"Info Gain for word \\'hillary\\': \"+str(information_gain(train,'hillary')))\n",
        "print(\"Info Gain for word \\'clinton\\': \"+str(information_gain(train,'clinton')))\n",
        "print(\"Info Gain for word \\'star\\'   : \"+str(information_gain(train,'star')))"
      ],
      "execution_count": 0,
      "outputs": [
        {
          "output_type": "stream",
          "text": [
            "Info Gain for word 'trump'  : 0.039820857181894764\n",
            "Info Gain for word 'donald' : 0.05062493493216147\n",
            "Info Gain for word 'trumps' : 0.04720386093386297\n",
            "Info Gain for word 'hillary': 0.033167923519466846\n",
            "Info Gain for word 'clinton': 0.010496694891769742\n",
            "Info Gain for word 'star'   : 0.009086706786931797\n"
          ],
          "name": "stdout"
        }
      ]
    },
    {
      "cell_type": "markdown",
      "metadata": {
        "id": "QNNckXPkMg7u",
        "colab_type": "text"
      },
      "source": [
        "## 2. Linear Regression"
      ]
    },
    {
      "cell_type": "markdown",
      "metadata": {
        "id": "F0ZNG66sMg7w",
        "colab_type": "text"
      },
      "source": [
        "### 2.1 House Prices Data [5 pts]\n",
        "We will apply linear regression to predict house sale prices based on the data for houses sold in King County between May 2014 and May 2015. \n",
        "\n",
        "This is the description of the dataset we will be using:"
      ]
    },
    {
      "cell_type": "code",
      "metadata": {
        "scrolled": true,
        "id": "y_7Fy3OEMg7x",
        "colab_type": "code",
        "outputId": "09d2dfdc-94ab-407e-f748-3319f472565a",
        "colab": {
          "base_uri": "https://localhost:8080/",
          "height": 334
        }
      },
      "source": [
        "houses = pd.read_csv(\"houses.csv\")\n",
        "houses.describe()"
      ],
      "execution_count": 0,
      "outputs": [
        {
          "output_type": "execute_result",
          "data": {
            "text/html": [
              "<div>\n",
              "<style scoped>\n",
              "    .dataframe tbody tr th:only-of-type {\n",
              "        vertical-align: middle;\n",
              "    }\n",
              "\n",
              "    .dataframe tbody tr th {\n",
              "        vertical-align: top;\n",
              "    }\n",
              "\n",
              "    .dataframe thead th {\n",
              "        text-align: right;\n",
              "    }\n",
              "</style>\n",
              "<table border=\"1\" class=\"dataframe\">\n",
              "  <thead>\n",
              "    <tr style=\"text-align: right;\">\n",
              "      <th></th>\n",
              "      <th>price (grands)</th>\n",
              "      <th>bedrooms</th>\n",
              "      <th>bathrooms</th>\n",
              "      <th>sqft_living</th>\n",
              "      <th>sqft_lot</th>\n",
              "      <th>floors</th>\n",
              "      <th>waterfront</th>\n",
              "      <th>view</th>\n",
              "      <th>condition</th>\n",
              "      <th>grade</th>\n",
              "      <th>sqft_above</th>\n",
              "      <th>sqft_basement</th>\n",
              "      <th>age</th>\n",
              "      <th>renovated_age</th>\n",
              "      <th>sqft_living15</th>\n",
              "      <th>sqft_lot15</th>\n",
              "    </tr>\n",
              "  </thead>\n",
              "  <tbody>\n",
              "    <tr>\n",
              "      <th>count</th>\n",
              "      <td>21613.000000</td>\n",
              "      <td>21613.000000</td>\n",
              "      <td>21613.000000</td>\n",
              "      <td>21613.000000</td>\n",
              "      <td>2.161300e+04</td>\n",
              "      <td>21613.000000</td>\n",
              "      <td>21613.000000</td>\n",
              "      <td>21613.000000</td>\n",
              "      <td>21613.000000</td>\n",
              "      <td>21613.000000</td>\n",
              "      <td>21613.000000</td>\n",
              "      <td>21613.000000</td>\n",
              "      <td>21613.000000</td>\n",
              "      <td>21613.000000</td>\n",
              "      <td>21613.000000</td>\n",
              "      <td>21613.000000</td>\n",
              "    </tr>\n",
              "    <tr>\n",
              "      <th>mean</th>\n",
              "      <td>540.088142</td>\n",
              "      <td>3.370842</td>\n",
              "      <td>2.114757</td>\n",
              "      <td>2079.899736</td>\n",
              "      <td>1.510697e+04</td>\n",
              "      <td>1.494309</td>\n",
              "      <td>0.007542</td>\n",
              "      <td>0.234303</td>\n",
              "      <td>3.409430</td>\n",
              "      <td>7.656873</td>\n",
              "      <td>1788.390691</td>\n",
              "      <td>291.509045</td>\n",
              "      <td>45.994864</td>\n",
              "      <td>2.380882</td>\n",
              "      <td>1986.552492</td>\n",
              "      <td>12768.455652</td>\n",
              "    </tr>\n",
              "    <tr>\n",
              "      <th>std</th>\n",
              "      <td>367.127196</td>\n",
              "      <td>0.930062</td>\n",
              "      <td>0.770163</td>\n",
              "      <td>918.440897</td>\n",
              "      <td>4.142051e+04</td>\n",
              "      <td>0.539989</td>\n",
              "      <td>0.086517</td>\n",
              "      <td>0.766318</td>\n",
              "      <td>0.650743</td>\n",
              "      <td>1.175459</td>\n",
              "      <td>828.090978</td>\n",
              "      <td>442.575043</td>\n",
              "      <td>29.373411</td>\n",
              "      <td>12.359528</td>\n",
              "      <td>685.391304</td>\n",
              "      <td>27304.179631</td>\n",
              "    </tr>\n",
              "    <tr>\n",
              "      <th>min</th>\n",
              "      <td>75.000000</td>\n",
              "      <td>0.000000</td>\n",
              "      <td>0.000000</td>\n",
              "      <td>290.000000</td>\n",
              "      <td>5.200000e+02</td>\n",
              "      <td>1.000000</td>\n",
              "      <td>0.000000</td>\n",
              "      <td>0.000000</td>\n",
              "      <td>1.000000</td>\n",
              "      <td>1.000000</td>\n",
              "      <td>290.000000</td>\n",
              "      <td>0.000000</td>\n",
              "      <td>2.000000</td>\n",
              "      <td>0.000000</td>\n",
              "      <td>399.000000</td>\n",
              "      <td>651.000000</td>\n",
              "    </tr>\n",
              "    <tr>\n",
              "      <th>25%</th>\n",
              "      <td>321.950000</td>\n",
              "      <td>3.000000</td>\n",
              "      <td>1.750000</td>\n",
              "      <td>1427.000000</td>\n",
              "      <td>5.040000e+03</td>\n",
              "      <td>1.000000</td>\n",
              "      <td>0.000000</td>\n",
              "      <td>0.000000</td>\n",
              "      <td>3.000000</td>\n",
              "      <td>7.000000</td>\n",
              "      <td>1190.000000</td>\n",
              "      <td>0.000000</td>\n",
              "      <td>20.000000</td>\n",
              "      <td>0.000000</td>\n",
              "      <td>1490.000000</td>\n",
              "      <td>5100.000000</td>\n",
              "    </tr>\n",
              "    <tr>\n",
              "      <th>50%</th>\n",
              "      <td>450.000000</td>\n",
              "      <td>3.000000</td>\n",
              "      <td>2.250000</td>\n",
              "      <td>1910.000000</td>\n",
              "      <td>7.618000e+03</td>\n",
              "      <td>1.500000</td>\n",
              "      <td>0.000000</td>\n",
              "      <td>0.000000</td>\n",
              "      <td>3.000000</td>\n",
              "      <td>7.000000</td>\n",
              "      <td>1560.000000</td>\n",
              "      <td>0.000000</td>\n",
              "      <td>42.000000</td>\n",
              "      <td>0.000000</td>\n",
              "      <td>1840.000000</td>\n",
              "      <td>7620.000000</td>\n",
              "    </tr>\n",
              "    <tr>\n",
              "      <th>75%</th>\n",
              "      <td>645.000000</td>\n",
              "      <td>4.000000</td>\n",
              "      <td>2.500000</td>\n",
              "      <td>2550.000000</td>\n",
              "      <td>1.068800e+04</td>\n",
              "      <td>2.000000</td>\n",
              "      <td>0.000000</td>\n",
              "      <td>0.000000</td>\n",
              "      <td>4.000000</td>\n",
              "      <td>8.000000</td>\n",
              "      <td>2210.000000</td>\n",
              "      <td>560.000000</td>\n",
              "      <td>66.000000</td>\n",
              "      <td>0.000000</td>\n",
              "      <td>2360.000000</td>\n",
              "      <td>10083.000000</td>\n",
              "    </tr>\n",
              "    <tr>\n",
              "      <th>max</th>\n",
              "      <td>7700.000000</td>\n",
              "      <td>33.000000</td>\n",
              "      <td>8.000000</td>\n",
              "      <td>13540.000000</td>\n",
              "      <td>1.651359e+06</td>\n",
              "      <td>3.500000</td>\n",
              "      <td>1.000000</td>\n",
              "      <td>4.000000</td>\n",
              "      <td>5.000000</td>\n",
              "      <td>13.000000</td>\n",
              "      <td>9410.000000</td>\n",
              "      <td>4820.000000</td>\n",
              "      <td>117.000000</td>\n",
              "      <td>114.000000</td>\n",
              "      <td>6210.000000</td>\n",
              "      <td>871200.000000</td>\n",
              "    </tr>\n",
              "  </tbody>\n",
              "</table>\n",
              "</div>"
            ],
            "text/plain": [
              "       price (grands)      bedrooms     bathrooms   sqft_living      sqft_lot  \\\n",
              "count    21613.000000  21613.000000  21613.000000  21613.000000  2.161300e+04   \n",
              "mean       540.088142      3.370842      2.114757   2079.899736  1.510697e+04   \n",
              "std        367.127196      0.930062      0.770163    918.440897  4.142051e+04   \n",
              "min         75.000000      0.000000      0.000000    290.000000  5.200000e+02   \n",
              "25%        321.950000      3.000000      1.750000   1427.000000  5.040000e+03   \n",
              "50%        450.000000      3.000000      2.250000   1910.000000  7.618000e+03   \n",
              "75%        645.000000      4.000000      2.500000   2550.000000  1.068800e+04   \n",
              "max       7700.000000     33.000000      8.000000  13540.000000  1.651359e+06   \n",
              "\n",
              "             floors    waterfront          view     condition         grade  \\\n",
              "count  21613.000000  21613.000000  21613.000000  21613.000000  21613.000000   \n",
              "mean       1.494309      0.007542      0.234303      3.409430      7.656873   \n",
              "std        0.539989      0.086517      0.766318      0.650743      1.175459   \n",
              "min        1.000000      0.000000      0.000000      1.000000      1.000000   \n",
              "25%        1.000000      0.000000      0.000000      3.000000      7.000000   \n",
              "50%        1.500000      0.000000      0.000000      3.000000      7.000000   \n",
              "75%        2.000000      0.000000      0.000000      4.000000      8.000000   \n",
              "max        3.500000      1.000000      4.000000      5.000000     13.000000   \n",
              "\n",
              "         sqft_above  sqft_basement           age  renovated_age  \\\n",
              "count  21613.000000   21613.000000  21613.000000   21613.000000   \n",
              "mean    1788.390691     291.509045     45.994864       2.380882   \n",
              "std      828.090978     442.575043     29.373411      12.359528   \n",
              "min      290.000000       0.000000      2.000000       0.000000   \n",
              "25%     1190.000000       0.000000     20.000000       0.000000   \n",
              "50%     1560.000000       0.000000     42.000000       0.000000   \n",
              "75%     2210.000000     560.000000     66.000000       0.000000   \n",
              "max     9410.000000    4820.000000    117.000000     114.000000   \n",
              "\n",
              "       sqft_living15     sqft_lot15  \n",
              "count   21613.000000   21613.000000  \n",
              "mean     1986.552492   12768.455652  \n",
              "std       685.391304   27304.179631  \n",
              "min       399.000000     651.000000  \n",
              "25%      1490.000000    5100.000000  \n",
              "50%      1840.000000    7620.000000  \n",
              "75%      2360.000000   10083.000000  \n",
              "max      6210.000000  871200.000000  "
            ]
          },
          "metadata": {
            "tags": []
          },
          "execution_count": 10
        }
      ]
    },
    {
      "cell_type": "markdown",
      "metadata": {
        "id": "Bvpzj5HzMg7v",
        "colab_type": "text"
      },
      "source": [
        "### Review Questions [10 pts (+5 bonus)]:\n",
        "\n",
        "1. <b> Update rule: </b>In addition to the usual loss term based on residuals, the cost function of linear regression can also incorporate a term for something called <i>regularization</i>. (The intuition behind this will be discussed in class later, but for now all you need is the equation). The cost function is then given as the sum of the squares of the residuals, plus an additional regularization term as follows:\n",
        "\n",
        "    $$\\epsilon = \\frac{1}{2N} \\sum_{i=1}^{N} (y^{(i)} - t^{(i)})^2 + \\frac{\\lambda}{2} \\sum_{j=0}^{D} w_j^2$$\n",
        "   \n",
        "   - N - size of training data\n",
        "   - t - Target output\n",
        "   - The predicted output $y$ is computed for a given $x$ as $$y = \\sum_{j=0}^{D} w_jx_j$$ \n",
        "  Assume that $x_0$ is always set to 1,  so that $w_0$ behaves as the bias term (this is just a notational convenience).\n",
        "   - D - Number of dimensions of each training data\n",
        "   - $\\lambda$ - controls the amount of regularization. Assume it is fixed to have some value between 0 and 1. \n",
        "   - $\\epsilon$ - The cost function to be minimized\n",
        "   \n",
        "   <b>Q:</b> Fill in the Gradient descent update rule for $w_j$ below [2 pts]:\n",
        "   \n",
        "     <b>A:</b> $$w_j \\leftarrow  w_j - {\\alpha}(\\frac{1}{N} \\sum_{i=1}^{N} x_j^{(i)}(y^{(i)} - t^{(i)}) + {\\lambda} w_j)$$\n",
        "   \n",
        "   <b>Q:</b> This type of regularization is called \"weight decay\". Based on the above update rule, can you guess why? [1 pt] <br>\n",
        "   Hint: Requires rearranging and grouping terms. <br>\n",
        "   <b>A:</b>  When we simplify the above equation we can see that we are subracting $${\\alpha}{\\lambda}{w_j}$$ from the standard gradient descent update rule. So, it decays the weight linearly.This penalises the higher weights and prevents overshooting from the minimum cost fuction. \n",
        "\n",
        "2. <b>Cost function: </b> Consider a Linear regression model in 2D space with 2 weights and no bias term:\n",
        "    $$ y = w_1 x_1 + w_2 x_2 $$ <br>\n",
        "    With MSE (mean-squared error), the total cost for the dataset is $\\epsilon = \\frac{1}{N} \\sum_{i=1}^{N} (y^{(i)} - t^{(i)})^2 $.\n",
        "    \n",
        "    Given a training set consisting of $N=3$ examples:\n",
        "    - $x^{(1)}=(2,0), t^{(1)} = 1$\n",
        "    - $x^{(2)}=(0,1), t^{(2)} = 2$\n",
        "    - $x^{(3)}=(0,1), t^{(3)} = 0$\n",
        "    \n",
        "   Write the cost in the form\n",
        "    $$ \\epsilon = c_1 (w_1 - d_1)^2 + c_2 ( w_2 - d_2)^2 + c_3$$\n",
        "    \n",
        "   <b>Q: </b> What are the values of $c_1, d_1, c_2, d_2$ and $c_3$? [2 pts] <br>\n",
        "   <b>A: </b>$$c_1=\\frac{4}{3}, d_1=\\frac{1}{2}, c_2=\\frac{2}{3}, d_2={1},  c_3=\\frac{2}{3}$$<br/>\n",
        "   \n",
        "   <b>Q: </b> Plot the above function for $\\epsilon = 1$; you may hand-draw it or use desmos graphing calculator. What shape does the cost function represent? [5 pts] <br>\n",
        "   <b>A: </b> For  $\\epsilon = 1$ the equation of the cost function represents an ellipse  with center (0.5,1), foci f1: (0.5,0.5) & f2: (0.5,1.5),  co-vertices: (0,1) & (1,1) and vertices: (0.5,0.29) & (0.5,1.701). Basically its a Contour for parameters w1 and w2 where cost fuction = 1.\n",
        "   \n",
        "   \n",
        "  - <b>Bonus Q: </b> Repeat by setting $\\epsilon=0$. What do you observe? Why? [2 pts] <br>\n",
        "    <b>A: </b> There is no graph generated as there is no Contour for the parameters w1 and w2  as the cost function = 0 reaches the global minimum.Also for cost fuction=0 the equation has imaginary roots.<br/>\n",
        "    \n",
        "  - <b>Bonus Q: </b> Gradient Descent usually converges to the local minima; however, Linear Regression converges to the global minimum as there is only one minimum. What is your estimate of the number of different values of w1 and w2 at convergence? [3 pts]<br/>\n",
        "  <b>A: </b>There is only one possible set of w1 and w2 at the global minimum."
      ]
    },
    {
      "cell_type": "code",
      "metadata": {
        "id": "mNzMKYttMg71",
        "colab_type": "code",
        "colab": {}
      },
      "source": [
        "house_data = np.array(houses)\n",
        "X = house_data[:,1:] # Extract all columns of house_data excepting the price into X\n",
        "Y = house_data[:,0] # Extract the price column of house_data into targets.\n",
        "# Be sure to reshape them into appropriate shapes. \n",
        "Y=Y.reshape(-1,1)"
      ],
      "execution_count": 0,
      "outputs": []
    },
    {
      "cell_type": "markdown",
      "metadata": {
        "id": "gu45zY39Mg73",
        "colab_type": "text"
      },
      "source": [
        "### 2.2 Linear Regression Code [10 pts]"
      ]
    },
    {
      "cell_type": "markdown",
      "metadata": {
        "id": "eNIj3hoeMg74",
        "colab_type": "text"
      },
      "source": [
        "For this assignment, we will train a simple linear regression model without any regularization. "
      ]
    },
    {
      "cell_type": "code",
      "metadata": {
        "id": "C58kxHqgMg74",
        "colab_type": "code",
        "colab": {}
      },
      "source": [
        "def linear_regression(data,\n",
        "                      targets,\n",
        "                      learning_rate,\n",
        "                      epochs,\n",
        "                      normalize = True,\n",
        "                      validate_code = False,\n",
        "                      plot_learning_curve = False,\n",
        "                      return_predictions = False\n",
        "                     ):\n",
        "    \"\"\"\n",
        "    The arguments are self-descriptive. \n",
        "    \"\"\"\n",
        "    \n",
        "    # Store the coefficients and bias term in the parameters.\n",
        "    # Initialize them with zeros.\n",
        "    parameters = np.zeros((data.shape[1]+1,1))\n",
        "    \n",
        "    if normalize:\n",
        "        # Normalize the data to have zero mean and unit variance.\n",
        "        mean = np.mean(data, axis=0)\n",
        "        std = np.std(data, axis=0)\n",
        "        # Update the dataset.\n",
        "        data =  (data - mean) / std\n",
        "\n",
        "    costs = []\n",
        "    #add column of ones for bias\n",
        "    data = np.append(data, np.ones((data.shape[0],1)),axis=1)\n",
        "    N = data.shape[0]\n",
        "    for epoch in range(epochs):\n",
        "        #predict y based on y_pred = w1*x1+w2*x2+w3*x3+b\n",
        "        y_pred = np.dot(data, parameters)\n",
        "        #residual difference between prediction and actual values of Y\n",
        "        residuals = y_pred - targets\n",
        "        #compute gradient descent\n",
        "        gradient_descent = (1/N)*np.dot(data.T, residuals)\n",
        "        #Update the parameter values\n",
        "        parameters -= (learning_rate) * gradient_descent\n",
        "        # Compute the new cost and append it to the list\n",
        "        cost = np.sum((residuals ** 2)) / (2 * N)\n",
        "        costs.append(cost)\n",
        "        \n",
        "    \n",
        "    # Compute the predicted house prices.\n",
        "    predictions = np.dot(data, parameters)\n",
        "    \n",
        "    # Validation code. Already done for you. \n",
        "    if validate_code:\n",
        "        lr = LinearRegression()\n",
        "        lr.fit(data,targets)\n",
        "        print(\"The coefficients and bias term of the custom LR:\", parameters.reshape(-1))\n",
        "        print(\"The coefficients of the SkLearn LR:\\t\\t\", lr.coef_.reshape(-1))\n",
        "        print(\"The bias of the SkLearn LR\\t\\t\\t\",lr.intercept_)\n",
        "        \n",
        "    \n",
        "    # Print the MSE at the end of training. \n",
        "    final_mse = costs[len(costs)-1]\n",
        "    print(\"MSE after training: \",final_mse)\n",
        "    \n",
        "    if plot_learning_curve:\n",
        "        # Plot the learning curve. Use log scale. \n",
        "        plt.title(\"Epochs vs MSE for lr: \"+str(learning_rate))\n",
        "        plt.xlabel(\"Epoch Iteration\")\n",
        "        plt.ylabel(\"MSE\")\n",
        "        plt.plot(range(1,epochs+1), costs, 'o-', color=\"r\", label=\"Training MSE\")\n",
        "        plt.xscale('log')\n",
        "        plt.legend()\n",
        "        plt.show()\n",
        "    \n",
        "    # Return the required results. Already done for you. \n",
        "    if return_predictions:\n",
        "        return predictions    "
      ],
      "execution_count": 0,
      "outputs": []
    },
    {
      "cell_type": "markdown",
      "metadata": {
        "id": "vqOXlo5vMg76",
        "colab_type": "text"
      },
      "source": [
        "First, let's validate the code written using a simple synthesized dataset. <br>\n",
        "\n",
        "\n",
        "[Verify your answer by manually comparing the parameters.]"
      ]
    },
    {
      "cell_type": "code",
      "metadata": {
        "id": "bEBBXvXUMg78",
        "colab_type": "code",
        "outputId": "6d5f5c2c-ed42-418f-effa-56719ca08ffc",
        "colab": {
          "base_uri": "https://localhost:8080/",
          "height": 85
        }
      },
      "source": [
        "X_simple = np.random.randn(100,3) # 100 3D data points\n",
        "w = np.array([[1],[2],[3]])\n",
        "b = 10\n",
        "Y_simple = np.matmul(X_simple,w)+b\n",
        "linear_regression(X_simple,\n",
        "                          Y_simple,\n",
        "                          learning_rate=1, \n",
        "                          epochs=30,\n",
        "                          validate_code=True)"
      ],
      "execution_count": 0,
      "outputs": [
        {
          "output_type": "stream",
          "text": [
            "The coefficients and bias term of the custom LR: [ 1.01569161  2.07586083  2.77986089 10.47199294]\n",
            "The coefficients of the SkLearn LR:\t\t [1.01569161 2.07586083 2.77986089 0.        ]\n",
            "The bias of the SkLearn LR\t\t\t [10.47199294]\n",
            "MSE after training:  4.969823702892374e-31\n"
          ],
          "name": "stdout"
        }
      ]
    },
    {
      "cell_type": "markdown",
      "metadata": {
        "id": "ev0mnemwNjkV",
        "colab_type": "text"
      },
      "source": [
        "### 2.3 Experiments [2+2+3]"
      ]
    },
    {
      "cell_type": "markdown",
      "metadata": {
        "id": "kOOtVvbqMg8A",
        "colab_type": "text"
      },
      "source": [
        "Now, vary the learning_rates [Ex: In orders of 10 - 10, 1, 0.1, 0.01, 0.001] and plot the learning curves for each of them. \n",
        "\n",
        "Choose the best-performing model for 10000 iterations."
      ]
    },
    {
      "cell_type": "code",
      "metadata": {
        "id": "G7mO1LwYMg8B",
        "colab_type": "code",
        "outputId": "2692e0fc-3f2a-48df-b3ea-6750e4f2e668",
        "colab": {
          "base_uri": "https://localhost:8080/",
          "height": 1558
        }
      },
      "source": [
        "learn_list = [10, 1, 0.1, 0.01, 0.001]\n",
        "for learn in learn_list:\n",
        "    linear_regression(X,Y,learning_rate=learn, epochs=10000,plot_learning_curve=True)"
      ],
      "execution_count": 0,
      "outputs": [
        {
          "output_type": "stream",
          "text": [
            "/usr/local/lib/python3.6/dist-packages/numpy/core/_methods.py:32: RuntimeWarning: overflow encountered in reduce\n",
            "  return umr_sum(a, axis, dtype, out, keepdims)\n",
            "/usr/local/lib/python3.6/dist-packages/ipykernel_launcher.py:39: RuntimeWarning: overflow encountered in square\n"
          ],
          "name": "stderr"
        },
        {
          "output_type": "stream",
          "text": [
            "MSE after training:  nan\n"
          ],
          "name": "stdout"
        },
        {
          "output_type": "display_data",
          "data": {
            "image/png": "[encoded data removed]",
            "text/plain": [
              "<Figure size 432x288 with 1 Axes>"
            ]
          },
          "metadata": {
            "tags": []
          }
        },
        {
          "output_type": "stream",
          "text": [
            "MSE after training:  nan\n"
          ],
          "name": "stdout"
        },
        {
          "output_type": "display_data",
          "data": {
            "image/png": "[encoded data removed]",
            "text/plain": [
              "<Figure size 432x288 with 1 Axes>"
            ]
          },
          "metadata": {
            "tags": []
          }
        },
        {
          "output_type": "stream",
          "text": [
            "MSE after training:  23340.485934199172\n"
          ],
          "name": "stdout"
        },
        {
          "output_type": "display_data",
          "data": {
            "image/png": "[encoded data removed]",
            "text/plain": [
              "<Figure size 432x288 with 1 Axes>"
            ]
          },
          "metadata": {
            "tags": []
          }
        },
        {
          "output_type": "stream",
          "text": [
            "MSE after training:  23340.485934199172\n"
          ],
          "name": "stdout"
        },
        {
          "output_type": "display_data",
          "data": {
            "image/png": "[encoded data removed]",
            "text/plain": [
              "<Figure size 432x288 with 1 Axes>"
            ]
          },
          "metadata": {
            "tags": []
          }
        },
        {
          "output_type": "stream",
          "text": [
            "MSE after training:  23350.191053575858\n"
          ],
          "name": "stdout"
        },
        {
          "output_type": "display_data",
          "data": {
            "image/png": "[encoded data removed]",
            "text/plain": [
              "<Figure size 432x288 with 1 Axes>"
            ]
          },
          "metadata": {
            "tags": []
          }
        }
      ]
    },
    {
      "cell_type": "markdown",
      "metadata": {
        "id": "C_gKu4IYMg8E",
        "colab_type": "text"
      },
      "source": [
        "For the best-performing model, plot the graph of predicted prices vs actual prices (scatter plot)."
      ]
    },
    {
      "cell_type": "code",
      "metadata": {
        "id": "pCmVACKiMg8F",
        "colab_type": "code",
        "outputId": "eada96c5-31b5-401f-f05a-c8026df84c1e",
        "colab": {
          "base_uri": "https://localhost:8080/",
          "height": 311
        }
      },
      "source": [
        "#selected the best performing model with minimum MSE learing rates = 0.1 and 0.01\n",
        "predicted_lr1 = linear_regression(X,Y,learning_rate=0.01, epochs=10000,return_predictions=True)\n",
        "#Plot predicted prices vs actual prices\n",
        "plt.title(\"Predicted Prices vs Actual Prices\")\n",
        "plt.xlabel(\"Predicted Prices\")\n",
        "plt.ylabel(\"Actual Prices\")\n",
        "plt.plot(predicted_lr1, Y, 'bo', predicted_lr1, predicted_lr1, '--k')\n",
        "plt.show()"
      ],
      "execution_count": 0,
      "outputs": [
        {
          "output_type": "stream",
          "text": [
            "MSE after training:  23340.485934199172\n"
          ],
          "name": "stdout"
        },
        {
          "output_type": "display_data",
          "data": {
            "image/png": "[encoded data removed]",
            "text/plain": [
              "<Figure size 432x288 with 1 Axes>"
            ]
          },
          "metadata": {
            "tags": []
          }
        }
      ]
    },
    {
      "cell_type": "markdown",
      "metadata": {
        "id": "e8UgEZ1iMg8G",
        "colab_type": "text"
      },
      "source": [
        "Plot the predictions of the best-obtained model as a function of the sqft_living. \n",
        "\n",
        "Now, train a linear regressor (LR2) that predicts the house price only based on sqft_living. \n",
        "In the same plot as above, plot the graph of LR2 predictions vs sqft_living."
      ]
    },
    {
      "cell_type": "code",
      "metadata": {
        "id": "u9LUd4GqMg8I",
        "colab_type": "code",
        "outputId": "6a266b84-6f0a-49aa-f704-68c08d335770",
        "colab": {
          "base_uri": "https://localhost:8080/",
          "height": 865
        }
      },
      "source": [
        "plt.title(\"Sqft Living vs Predicted Prices\")\n",
        "plt.xlabel(\"sqft_living\")\n",
        "plt.ylabel(\"Predicted Prices\")\n",
        "plt.plot(X[:,2], predicted_lr1, 'bo')\n",
        "plt.show()\n",
        "predicted_lr2 = linear_regression(X[:,2].reshape(X.shape[0],1),Y,learning_rate=0.01, epochs=10000,return_predictions=True)\n",
        "plt.title(\"Sqft Living vs Predicted Prices\")\n",
        "plt.xlabel(\"sqft_living\")\n",
        "plt.ylabel(\"Predicted Prices\")\n",
        "plt.plot(X[:,2], predicted_lr2, 'bo')\n",
        "plt.show()\n",
        "#Below code is implemented for observation purpose.\n",
        "plt.title(\"Predicted Prices vs Actual Prices\")\n",
        "plt.xlabel(\"Predicted Prices\")\n",
        "plt.ylabel(\"Actual Prices\")\n",
        "plt.plot(predicted_lr2, Y, 'bo', predicted_lr2, predicted_lr2, '--k')\n",
        "plt.show()"
      ],
      "execution_count": 0,
      "outputs": [
        {
          "output_type": "display_data",
          "data": {
            "image/png": "[encoded data removed]",
            "text/plain": [
              "<Figure size 432x288 with 1 Axes>"
            ]
          },
          "metadata": {
            "tags": []
          }
        },
        {
          "output_type": "stream",
          "text": [
            "MSE after training:  34175.64341651991\n"
          ],
          "name": "stdout"
        },
        {
          "output_type": "display_data",
          "data": {
            "image/png": "[encoded data removed]",
            "text/plain": [
              "<Figure size 432x288 with 1 Axes>"
            ]
          },
          "metadata": {
            "tags": []
          }
        },
        {
          "output_type": "display_data",
          "data": {
            "image/png": "[encoded data removed]",
            "text/plain": [
              "<Figure size 432x288 with 1 Axes>"
            ]
          },
          "metadata": {
            "tags": []
          }
        }
      ]
    },
    {
      "cell_type": "markdown",
      "metadata": {
        "id": "rWe0gS9OMg8K",
        "colab_type": "text"
      },
      "source": [
        "### 2.4 Observations [8 pts]\n",
        "\n",
        "In this part, list the various conclusions you made from the experiments above. <br>\n",
        "For example: \n",
        "- What did you learn by observing the various plots above? \n",
        "- How well did Linear Regression perform?\n",
        "- Can you think of a way to improve the performance?\n",
        "- etc."
      ]
    },
    {
      "cell_type": "code",
      "metadata": {
        "id": "Tn_XWIZaMg8L",
        "colab_type": "code",
        "outputId": "5a1b19aa-01a2-4782-c43e-a33cb7746cd3",
        "colab": {
          "base_uri": "https://localhost:8080/",
          "height": 54
        }
      },
      "source": [
        "'''\n",
        "Learning Curve Plots:\n",
        "We can see that in case if learning rate is higher the parameters overshoots and do not converge and global minimum.\n",
        "Also we can see that as we converge to local minimum the partial derivative also decreases which inturn takes smaller steps. This can be noticed in learning curve\n",
        "with alpha 0.1. For learning curve with learning rate 0.1,0.01 and 0.001 after cetain epochs it can be seen that mean square error does not decreases.\n",
        "Best model is selected based on minimum MSE.\n",
        "\n",
        "Predicted vs Actual Price Plot:\n",
        "It can be seen that the model doesn't preform well for all the prediction as the points are scattered and there is some difference among the actual price and \n",
        "predicted price in some cases. Specially for actually price>=4000 doesn't give good predicted price\n",
        "\n",
        "Predicted value using all features vs sqft living:\n",
        "The Predicted values wrt  sqft living there is a possiblity of a linear line that satisfy most of the point.\n",
        "\n",
        "Predicted value using sqft_living vs sqft_living:\n",
        "This shows a linear behiviour between the feature and prediction. But the Mean Square error is higher in comparision when trained with all the features.\n",
        "If we plot the graph of predicted values by lr2 model and the actual prices the prediction aren't good as done by lr1 model.We can see alot of points are away from\n",
        "the line.\n",
        "\n",
        "Improving the performance of the model:\n",
        "-Plot the heat map and find the relation of features that have impact on the price(target).\n",
        "-Use only the key features set that influence price for predicting the prices.\n",
        "-Apply regularization to prevent overfitting.\n",
        "-Adding weight decay helps to converge the cost fuction more it reduce cost fuction from 25k(without weight decay) to 9k(with weight decay). (Tested)\n",
        "-Analysis of how the outliers affect the linear line. Is it wise to remove the outliers or not?\n",
        "'''"
      ],
      "execution_count": 0,
      "outputs": [
        {
          "output_type": "execute_result",
          "data": {
            "text/plain": [
              "\"\\nLearning Curve Plots:\\nWe can see that in case if learning rate is higher the parameters overshoots and do not converge and global minimum.\\nAlso we can see that as we converge to local minimum the partial derivative also decreases which inturn takes smaller steps. This can be noticed in learning curve\\nwith alpha 0.1. For learning curve with learning rate 0.1,0.01 and 0.001 after cetain epochs it can be seen that mean square error does not decreases.\\nBest model is selected based on minimum MSE.\\n\\nPredicted vs Actual Price Plot:\\nIt can be seen that the model doesn't preform well for all the prediction as the points are scattered and there is some difference among the actual price and \\npredicted price in some cases. Specially for actually price>=4000 doesn't give good predicted price\\n\\nPredicted value using all features vs sqft living:\\nThe Predicted values wrt  sqft living there is a possiblity of a linear line that satisfy most of the point.\\n\\nPredicted value using sqft_living vs sqft_living:\\nThis shows a linear behiviour between the feature and prediction. But the Mean Square error is higher in comparision when trained with all the features.\\nIf we plot the graph of predicted values by lr2 model and the actual prices the prediction aren't good as done by lr1 model.We can see alot of points are away from\\nthe line.\\n\\nImproving the performance of the model:\\n-Plot the heat map and find the relation of features that have impact on the price(target).\\n-Use only the key features set that influence price for predicting the prices.\\n-Apply regularization to prevent overfitting.\\n-Adding weight decay helps to converge the cost fuction more it reduce cost fuction from 25k(without weight decay) to 9k(with weight decay). (Tested)\\n-Analysis of how the outliers affect the linear line. Is it wise to remove the outliers or not?\\n\""
            ]
          },
          "metadata": {
            "tags": []
          },
          "execution_count": 17
        }
      ]
    }
  ]
}